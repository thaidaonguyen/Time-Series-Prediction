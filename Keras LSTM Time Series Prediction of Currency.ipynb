{
 "cells": [
  {
   "cell_type": "code",
   "execution_count": 1,
   "metadata": {
    "collapsed": true
   },
   "outputs": [],
   "source": [
    "#Note:  Work in progress.  Codes are experimental so they might be missing some test cases/logics.\n",
    "#                \n"
   ]
  },
  {
   "cell_type": "markdown",
   "metadata": {},
   "source": [
    "# Keras LSTM Time Series prediction"
   ]
  },
  {
   "cell_type": "code",
   "execution_count": 2,
   "metadata": {},
   "outputs": [
    {
     "name": "stderr",
     "output_type": "stream",
     "text": [
      "Using TensorFlow backend.\n"
     ]
    }
   ],
   "source": [
    "import numpy as np\n",
    "import matplotlib.pyplot as plt\n",
    "import pandas as pd\n",
    "from pandas import datetime\n",
    "import math, time\n",
    "import itertools\n",
    "from sklearn import preprocessing\n",
    "import datetime\n",
    "from operator import itemgetter\n",
    "from sklearn.metrics import mean_squared_error\n",
    "from math import sqrt\n",
    "\n",
    "from keras.models import Sequential\n",
    "from keras.layers.core import Dense, Dropout, Activation\n",
    "from keras.layers.recurrent import LSTM"
   ]
  },
  {
   "cell_type": "code",
   "execution_count": 3,
   "metadata": {},
   "outputs": [
    {
     "name": "stdout",
     "output_type": "stream",
     "text": [
      "2.0.2\n"
     ]
    }
   ],
   "source": [
    "import keras\n",
    "print (keras.__version__)\n",
    "%matplotlib notebook\n",
    "%matplotlib inline"
   ]
  },
  {
   "cell_type": "code",
   "execution_count": null,
   "metadata": {
    "collapsed": true
   },
   "outputs": [],
   "source": [
    "# Loading the data:\n",
    "# Sept 16, 17 Note: - My last April 19th's downloaded dataset for USDCAD \n",
    "#                    from Yahoo Finance web site was successful.  Unfortunately,\n",
    "#                    the site does not give historical data for currency anymore.\n",
    "#                    One could use investing.com to get currency data.  But, we\n",
    "#                    will use my April 19th spreadsheet for now.\n",
    "                      "
   ]
  },
  {
   "cell_type": "code",
   "execution_count": null,
   "metadata": {
    "collapsed": true
   },
   "outputs": [],
   "source": [
    "def get_data():\n",
    "    #To download and scape from a finance web site.  And save it to a usable\n",
    "    #format to import later\n",
    "    url='....investing.com'    \n",
    "    return df"
   ]
  },
  {
   "cell_type": "markdown",
   "metadata": {},
   "source": [
    "# Loading csv file"
   ]
  },
  {
   "cell_type": "code",
   "execution_count": 4,
   "metadata": {},
   "outputs": [
    {
     "data": {
      "text/html": [
       "<div>\n",
       "<style>\n",
       "    .dataframe thead tr:only-child th {\n",
       "        text-align: right;\n",
       "    }\n",
       "\n",
       "    .dataframe thead th {\n",
       "        text-align: left;\n",
       "    }\n",
       "\n",
       "    .dataframe tbody tr th {\n",
       "        vertical-align: top;\n",
       "    }\n",
       "</style>\n",
       "<table border=\"1\" class=\"dataframe\">\n",
       "  <thead>\n",
       "    <tr style=\"text-align: right;\">\n",
       "      <th></th>\n",
       "      <th>Open</th>\n",
       "      <th>High</th>\n",
       "      <th>Close</th>\n",
       "    </tr>\n",
       "  </thead>\n",
       "  <tbody>\n",
       "    <tr>\n",
       "      <th>0</th>\n",
       "      <td>1.3382</td>\n",
       "      <td>1.3478</td>\n",
       "      <td>1.3382</td>\n",
       "    </tr>\n",
       "    <tr>\n",
       "      <th>1</th>\n",
       "      <td>1.3315</td>\n",
       "      <td>1.3399</td>\n",
       "      <td>1.3309</td>\n",
       "    </tr>\n",
       "    <tr>\n",
       "      <th>2</th>\n",
       "      <td>1.3321</td>\n",
       "      <td>1.3324</td>\n",
       "      <td>1.3260</td>\n",
       "    </tr>\n",
       "    <tr>\n",
       "      <th>3</th>\n",
       "      <td>1.3327</td>\n",
       "      <td>1.3337</td>\n",
       "      <td>1.3307</td>\n",
       "    </tr>\n",
       "    <tr>\n",
       "      <th>4</th>\n",
       "      <td>1.3253</td>\n",
       "      <td>1.3339</td>\n",
       "      <td>1.3220</td>\n",
       "    </tr>\n",
       "  </tbody>\n",
       "</table>\n",
       "</div>"
      ],
      "text/plain": [
       "     Open    High   Close\n",
       "0  1.3382  1.3478  1.3382\n",
       "1  1.3315  1.3399  1.3309\n",
       "2  1.3321  1.3324  1.3260\n",
       "3  1.3327  1.3337  1.3307\n",
       "4  1.3253  1.3339  1.3220"
      ]
     },
     "execution_count": 4,
     "metadata": {},
     "output_type": "execute_result"
    }
   ],
   "source": [
    "#CSV:  From Yahoo Finance's on April 19th, 2017\n",
    "#df=pd.read_csv('USDCAD-20yrs from Apr 19-2017-Close.csv') \n",
    "df=pd.read_csv('USDCAD-20yrs from Apr 19-2017-All.csv') \n",
    "df.head()"
   ]
  },
  {
   "cell_type": "code",
   "execution_count": null,
   "metadata": {
    "collapsed": true,
    "scrolled": true
   },
   "outputs": [],
   "source": [
    "#The values are close in their ranges, so it should be ok to not normalize for our testing purposes"
   ]
  },
  {
   "cell_type": "code",
   "execution_count": 5,
   "metadata": {
    "collapsed": true
   },
   "outputs": [],
   "source": [
    "def load_data(original_df, seq_len):\n",
    "    #Source:  some section taken from https://github.com/jaungiers/LSTM-Neural-Network-for-Time-Series-Prediction/blob/master/lstm.py\n",
    "    #return: splitted train/test data \n",
    "    amount_of_features = len(original_df.columns)\n",
    "    data = original_df.as_matrix()\n",
    "    sequence_length = seq_len + 1\n",
    "    result = []\n",
    "    for index in range(len(data) - sequence_length):\n",
    "        result.append(data[index: index + sequence_length])\n",
    "        \n",
    "    result = np.array(result)\n",
    "    \n",
    "    #split the train/test with 90% train, and the rest test\n",
    "    #target is the last column\n",
    "    row = round(0.9 * result.shape[0])\n",
    "    train = result[:int(row), :]\n",
    "    x_train = train[:, :-1]\n",
    "    y_train = train[:, -1][:,-1]\n",
    "    x_test = result[int(row):, :-1]\n",
    "    y_test = result[int(row):, -1][:,-1]\n",
    "\n",
    "    x_train = np.reshape(x_train, (x_train.shape[0], x_train.shape[1], amount_of_features))\n",
    "    x_test = np.reshape(x_test, (x_test.shape[0], x_test.shape[1], amount_of_features))  \n",
    "\n",
    "    return [x_train, y_train, x_test, y_test]\n",
    "\n",
    "\n"
   ]
  },
  {
   "cell_type": "markdown",
   "metadata": {},
   "source": [
    "##  Build the model"
   ]
  },
  {
   "cell_type": "code",
   "execution_count": 6,
   "metadata": {
    "collapsed": true
   },
   "outputs": [],
   "source": [
    "#Basic LSTM model:\n",
    "def build_model(layers):\n",
    "    drop_out_rate = 0.2\n",
    "    model = Sequential()\n",
    "    model.add(LSTM(128, input_shape=(layers[1], layers[0]), return_sequences=True))\n",
    "    model.add(Dropout(drop_out_rate))\n",
    "    model.add(LSTM(64, input_shape=(layers[1], layers[0]), return_sequences=False))\n",
    "    model.add(Dropout(drop_out_rate))\n",
    "    model.add(Dense(16,activation='relu'))        \n",
    "    model.add(Dense(1,activation='linear'))\n",
    "    model.compile(loss='mse',optimizer='adam',metrics=['accuracy'])\n",
    "    return model\n",
    "    \n"
   ]
  },
  {
   "cell_type": "markdown",
   "metadata": {
    "collapsed": true
   },
   "source": [
    "## Train "
   ]
  },
  {
   "cell_type": "code",
   "execution_count": 7,
   "metadata": {
    "scrolled": true
   },
   "outputs": [
    {
     "name": "stdout",
     "output_type": "stream",
     "text": [
      "X_train (4460, 22, 3)\n",
      "y_train (4460,)\n",
      "X_test (496, 22, 3)\n",
      "y_test (496,)\n"
     ]
    }
   ],
   "source": [
    "#Try diffent window size:  20, 50, 100, 200\n",
    "#Worked well:window = 22\n",
    "window=22\n",
    "X_train, y_train, X_test, y_test = load_data(df[::-1], window)\n",
    "print(\"X_train\", X_train.shape)\n",
    "print(\"y_train\", y_train.shape)\n",
    "print(\"X_test\", X_test.shape)\n",
    "print(\"y_test\", y_test.shape)"
   ]
  },
  {
   "cell_type": "code",
   "execution_count": 8,
   "metadata": {
    "collapsed": true
   },
   "outputs": [],
   "source": [
    "model = build_model([3,window,1])\n"
   ]
  },
  {
   "cell_type": "code",
   "execution_count": 9,
   "metadata": {},
   "outputs": [
    {
     "name": "stdout",
     "output_type": "stream",
     "text": [
      "Train on 4014 samples, validate on 446 samples\n",
      "Epoch 1/50\n",
      "4014/4014 [==============================] - 5s - loss: 0.5171 - acc: 0.0000e+00 - val_loss: 0.1814 - val_acc: 0.0000e+00\n",
      "Epoch 2/50\n",
      "4014/4014 [==============================] - 3s - loss: 0.0839 - acc: 4.9826e-04 - val_loss: 0.0229 - val_acc: 0.0000e+00\n",
      "Epoch 3/50\n",
      "4014/4014 [==============================] - 3s - loss: 0.0442 - acc: 4.9826e-04 - val_loss: 0.0174 - val_acc: 0.0000e+00\n",
      "Epoch 4/50\n",
      "4014/4014 [==============================] - 3s - loss: 0.0305 - acc: 4.9826e-04 - val_loss: 0.0020 - val_acc: 0.0000e+00\n",
      "Epoch 5/50\n",
      "4014/4014 [==============================] - 3s - loss: 0.0256 - acc: 4.9826e-04 - val_loss: 0.0087 - val_acc: 0.0000e+00\n",
      "Epoch 6/50\n",
      "4014/4014 [==============================] - 3s - loss: 0.0216 - acc: 4.9826e-04 - val_loss: 5.0281e-04 - val_acc: 0.0000e+00\n",
      "Epoch 7/50\n",
      "4014/4014 [==============================] - 3s - loss: 0.0178 - acc: 4.9826e-04 - val_loss: 0.0021 - val_acc: 0.0000e+00\n",
      "Epoch 8/50\n",
      "4014/4014 [==============================] - 3s - loss: 0.0159 - acc: 4.9826e-04 - val_loss: 7.5181e-04 - val_acc: 0.0000e+00\n",
      "Epoch 9/50\n",
      "4014/4014 [==============================] - 3s - loss: 0.0142 - acc: 4.9826e-04 - val_loss: 5.4851e-04 - val_acc: 0.0000e+00\n",
      "Epoch 10/50\n",
      "4014/4014 [==============================] - 3s - loss: 0.0127 - acc: 4.9826e-04 - val_loss: 3.2284e-04 - val_acc: 0.0000e+00\n",
      "Epoch 11/50\n",
      "4014/4014 [==============================] - 3s - loss: 0.0113 - acc: 4.9826e-04 - val_loss: 1.6915e-04 - val_acc: 0.0000e+00\n",
      "Epoch 12/50\n",
      "4014/4014 [==============================] - 3s - loss: 0.0106 - acc: 4.9826e-04 - val_loss: 1.1564e-04 - val_acc: 0.0000e+00\n",
      "Epoch 13/50\n",
      "4014/4014 [==============================] - 3s - loss: 0.0101 - acc: 4.9826e-04 - val_loss: 1.1468e-04 - val_acc: 0.0000e+00\n",
      "Epoch 14/50\n",
      "4014/4014 [==============================] - 3s - loss: 0.0092 - acc: 4.9826e-04 - val_loss: 1.7717e-04 - val_acc: 0.0000e+00\n",
      "Epoch 15/50\n",
      "4014/4014 [==============================] - 3s - loss: 0.0095 - acc: 4.9826e-04 - val_loss: 1.1537e-04 - val_acc: 0.0000e+00\n",
      "Epoch 16/50\n",
      "4014/4014 [==============================] - 3s - loss: 0.0096 - acc: 4.9826e-04 - val_loss: 2.6066e-04 - val_acc: 0.0000e+00\n",
      "Epoch 17/50\n",
      "4014/4014 [==============================] - 3s - loss: 0.0095 - acc: 4.9826e-04 - val_loss: 5.9546e-04 - val_acc: 0.0000e+00\n",
      "Epoch 18/50\n",
      "4014/4014 [==============================] - 3s - loss: 0.0089 - acc: 4.9826e-04 - val_loss: 4.2304e-04 - val_acc: 0.0000e+00\n",
      "Epoch 19/50\n",
      "4014/4014 [==============================] - 3s - loss: 0.0082 - acc: 4.9826e-04 - val_loss: 1.1547e-04 - val_acc: 0.0000e+00\n",
      "Epoch 20/50\n",
      "4014/4014 [==============================] - 3s - loss: 0.0086 - acc: 4.9826e-04 - val_loss: 1.1499e-04 - val_acc: 0.0000e+00\n",
      "Epoch 21/50\n",
      "4014/4014 [==============================] - 3s - loss: 0.0083 - acc: 4.9826e-04 - val_loss: 1.1775e-04 - val_acc: 0.0000e+00\n",
      "Epoch 22/50\n",
      "4014/4014 [==============================] - 3s - loss: 0.0081 - acc: 4.9826e-04 - val_loss: 3.3392e-04 - val_acc: 0.0000e+00\n",
      "Epoch 23/50\n",
      "4014/4014 [==============================] - 3s - loss: 0.0080 - acc: 4.9826e-04 - val_loss: 1.5746e-04 - val_acc: 0.0000e+00\n",
      "Epoch 24/50\n",
      "4014/4014 [==============================] - 3s - loss: 0.0078 - acc: 4.9826e-04 - val_loss: 1.2052e-04 - val_acc: 0.0000e+00\n",
      "Epoch 25/50\n",
      "4014/4014 [==============================] - 3s - loss: 0.0074 - acc: 4.9826e-04 - val_loss: 1.1630e-04 - val_acc: 0.0000e+00\n",
      "Epoch 26/50\n",
      "4014/4014 [==============================] - 3s - loss: 0.0076 - acc: 4.9826e-04 - val_loss: 2.1571e-04 - val_acc: 0.0000e+00\n",
      "Epoch 27/50\n",
      "4014/4014 [==============================] - 3s - loss: 0.0074 - acc: 4.9826e-04 - val_loss: 1.1810e-04 - val_acc: 0.0000e+00\n",
      "Epoch 28/50\n",
      "4014/4014 [==============================] - 3s - loss: 0.0073 - acc: 4.9826e-04 - val_loss: 1.7512e-04 - val_acc: 0.0000e+00\n",
      "Epoch 29/50\n",
      "4014/4014 [==============================] - 3s - loss: 0.0073 - acc: 4.9826e-04 - val_loss: 4.5078e-04 - val_acc: 0.0000e+00\n",
      "Epoch 30/50\n",
      "4014/4014 [==============================] - 3s - loss: 0.0071 - acc: 4.9826e-04 - val_loss: 1.4318e-04 - val_acc: 0.0000e+00\n",
      "Epoch 31/50\n",
      "4014/4014 [==============================] - 3s - loss: 0.0069 - acc: 4.9826e-04 - val_loss: 3.6727e-04 - val_acc: 0.0000e+00\n",
      "Epoch 32/50\n",
      "4014/4014 [==============================] - 3s - loss: 0.0067 - acc: 4.9826e-04 - val_loss: 1.4011e-04 - val_acc: 0.0000e+00\n",
      "Epoch 33/50\n",
      "4014/4014 [==============================] - 3s - loss: 0.0068 - acc: 4.9826e-04 - val_loss: 3.3075e-04 - val_acc: 0.0000e+00\n",
      "Epoch 34/50\n",
      "4014/4014 [==============================] - 3s - loss: 0.0065 - acc: 4.9826e-04 - val_loss: 2.0748e-04 - val_acc: 0.0000e+00\n",
      "Epoch 35/50\n",
      "4014/4014 [==============================] - 3s - loss: 0.0062 - acc: 4.9826e-04 - val_loss: 2.3711e-04 - val_acc: 0.0000e+00\n",
      "Epoch 36/50\n",
      "4014/4014 [==============================] - 3s - loss: 0.0066 - acc: 4.9826e-04 - val_loss: 1.4548e-04 - val_acc: 0.0000e+00\n",
      "Epoch 37/50\n",
      "4014/4014 [==============================] - 3s - loss: 0.0064 - acc: 4.9826e-04 - val_loss: 7.5697e-04 - val_acc: 0.0000e+00\n",
      "Epoch 38/50\n",
      "4014/4014 [==============================] - 3s - loss: 0.0061 - acc: 4.9826e-04 - val_loss: 1.4097e-04 - val_acc: 0.0000e+00\n",
      "Epoch 39/50\n",
      "4014/4014 [==============================] - 3s - loss: 0.0061 - acc: 4.9826e-04 - val_loss: 2.4725e-04 - val_acc: 0.0000e+00\n",
      "Epoch 40/50\n",
      "4014/4014 [==============================] - 3s - loss: 0.0063 - acc: 4.9826e-04 - val_loss: 3.6905e-04 - val_acc: 0.0000e+00\n",
      "Epoch 41/50\n",
      "4014/4014 [==============================] - 3s - loss: 0.0063 - acc: 4.9826e-04 - val_loss: 5.7317e-04 - val_acc: 0.0000e+00\n",
      "Epoch 42/50\n",
      "4014/4014 [==============================] - 3s - loss: 0.0061 - acc: 4.9826e-04 - val_loss: 1.6618e-04 - val_acc: 0.0000e+00\n",
      "Epoch 43/50\n",
      "4014/4014 [==============================] - 3s - loss: 0.0061 - acc: 4.9826e-04 - val_loss: 2.5064e-04 - val_acc: 0.0000e+00\n",
      "Epoch 44/50\n",
      "4014/4014 [==============================] - 3s - loss: 0.0059 - acc: 4.9826e-04 - val_loss: 0.0010 - val_acc: 0.0000e+00\n",
      "Epoch 45/50\n",
      "4014/4014 [==============================] - 3s - loss: 0.0059 - acc: 4.9826e-04 - val_loss: 1.2782e-04 - val_acc: 0.0000e+00\n",
      "Epoch 46/50\n",
      "4014/4014 [==============================] - 3s - loss: 0.0057 - acc: 4.9826e-04 - val_loss: 0.0014 - val_acc: 0.0000e+00\n",
      "Epoch 47/50\n",
      "4014/4014 [==============================] - 3s - loss: 0.0061 - acc: 4.9826e-04 - val_loss: 2.2479e-04 - val_acc: 0.0000e+00\n",
      "Epoch 48/50\n",
      "4014/4014 [==============================] - 3s - loss: 0.0058 - acc: 4.9826e-04 - val_loss: 2.3310e-04 - val_acc: 0.0000e+00\n",
      "Epoch 49/50\n",
      "4014/4014 [==============================] - 3s - loss: 0.0054 - acc: 4.9826e-04 - val_loss: 7.5036e-04 - val_acc: 0.0000e+00\n",
      "Epoch 50/50\n",
      "4014/4014 [==============================] - 3s - loss: 0.0055 - acc: 4.9826e-04 - val_loss: 1.3757e-04 - val_acc: 0.0000e+00\n"
     ]
    },
    {
     "data": {
      "text/plain": [
       "<keras.callbacks.History at 0x1909ca13c50>"
      ]
     },
     "execution_count": 9,
     "metadata": {},
     "output_type": "execute_result"
    }
   ],
   "source": [
    "model.fit(\n",
    "    X_train,\n",
    "    y_train,\n",
    "    batch_size=512,\n",
    "    epochs=50,\n",
    "    validation_split=0.1,\n",
    "    verbose=1)"
   ]
  },
  {
   "cell_type": "markdown",
   "metadata": {},
   "source": [
    "##  Plot out Prediction vs Test Results"
   ]
  },
  {
   "cell_type": "code",
   "execution_count": 11,
   "metadata": {},
   "outputs": [
    {
     "data": {
      "image/png": "[encoded data removed]",
      "text/plain": [
       "<matplotlib.figure.Figure at 0x1909dc86a90>"
      ]
     },
     "metadata": {},
     "output_type": "display_data"
    }
   ],
   "source": [
    "import matplotlib.pyplot as plt2\n",
    "\n",
    "p = model.predict(X_test)  #Thai's\n",
    "\n",
    "plt2.plot(p,color='red', label='prediction')\n",
    "plt2.plot(y_test,color='blue', label='y_test')\n",
    "plt2.legend(loc='upper left')\n",
    "plt2.show()"
   ]
  },
  {
   "cell_type": "code",
   "execution_count": null,
   "metadata": {
    "collapsed": true
   },
   "outputs": [],
   "source": []
  },
  {
   "cell_type": "code",
   "execution_count": null,
   "metadata": {
    "collapsed": true
   },
   "outputs": [],
   "source": [
    "#Result:  \n",
    "# The plot looks good, seems to work.  Will still need to run for different\n",
    "# parameters, normalization ect to observe.  Also, from the blog's comments, other\n",
    "# users have experienced inconsistent results.  Will need to examine further....\n",
    "\n",
    "#When ran on T2.Small on AWS - 6 sec per epoch\n",
    "#The predicted curve moves closer to true value as # epochs increase.\n",
    "\n",
    "#When ran locally with 50 epochs - First epoch 6 sec, then subsequent 3-4 sec.  \n",
    "#The predicted curve very close to true value."
   ]
  }
 ],
 "metadata": {
  "anaconda-cloud": {},
  "hide_input": false,
  "kernelspec": {
   "display_name": "Python 3",
   "language": "python",
   "name": "python3"
  },
  "language_info": {
   "codemirror_mode": {
    "name": "ipython",
    "version": 3
   },
   "file_extension": ".py",
   "mimetype": "text/x-python",
   "name": "python",
   "nbconvert_exporter": "python",
   "pygments_lexer": "ipython3",
   "version": "3.5.3"
  },
  "widgets": {
   "state": {},
   "version": "1.1.2"
  }
 },
 "nbformat": 4,
 "nbformat_minor": 1
}
